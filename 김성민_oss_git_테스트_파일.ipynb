{
  "nbformat": 4,
  "nbformat_minor": 0,
  "metadata": {
    "colab": {
      "provenance": []
    },
    "kernelspec": {
      "name": "python3",
      "display_name": "Python 3"
    },
    "language_info": {
      "name": "python"
    }
  },
  "cells": [
    {
      "cell_type": "code",
      "execution_count": 4,
      "metadata": {
        "colab": {
          "base_uri": "https://localhost:8080/"
        },
        "id": "Qsp1sFyHoaY4",
        "outputId": "8fffb21a-7e93-4542-bc98-db36d573630f"
      },
      "outputs": [
        {
          "output_type": "stream",
          "name": "stdout",
          "text": [
            "Value for 3\n",
            "Value for 3\n"
          ]
        }
      ],
      "source": [
        "class MyCollection:\n",
        "  def __getitem__(self,key):\n",
        "    return f\"Value for {key}\"\n",
        "\n",
        "collection = MyCollection()\n",
        "print(collection.__getitem__(3))\n",
        "print(collection[3])\n"
      ]
    },
    {
      "cell_type": "code",
      "source": [
        "import collections\n",
        "\n",
        "Card = collections.namedtuple('Card',['rank','suit'])\n",
        "class FrenchDeck:\n",
        "  ranks = [str(n) for n in range(2,11)] + list(\"JQKA\")\n",
        "  suits = 'spades diamonds clubs hearts'.split()\n",
        "\n",
        "  def __init__(self):\n",
        "    self._cards= [Card(rank,suit)for suit in self.suits for rank in self.ranks]\n",
        "\n",
        "  def __len__(self):\n",
        "    return len(self._cards)\n",
        "  def __getitem__(self,position):\n",
        "    return self._cards[position]\n",
        "\n"
      ],
      "metadata": {
        "id": "Gehp8H0sqDnu"
      },
      "execution_count": 22,
      "outputs": []
    },
    {
      "cell_type": "code",
      "source": [
        "beer_card =Card('7','diamonds')\n",
        "beer_card"
      ],
      "metadata": {
        "colab": {
          "base_uri": "https://localhost:8080/"
        },
        "id": "6naJpPiKzOPn",
        "outputId": "ca2980a3-63c7-4bf3-8d4e-74205fe4d486"
      },
      "execution_count": 24,
      "outputs": [
        {
          "output_type": "execute_result",
          "data": {
            "text/plain": [
              "Card(rank='7', suit='diamonds')"
            ]
          },
          "metadata": {},
          "execution_count": 24
        }
      ]
    },
    {
      "cell_type": "code",
      "source": [
        "deck = FrenchDeck()\n",
        "print(f'Ranks: {deck.ranks}')\n",
        "print(f\"len: {len(deck)}\")"
      ],
      "metadata": {
        "colab": {
          "base_uri": "https://localhost:8080/"
        },
        "id": "XZ-hu-Yxzc82",
        "outputId": "1f035e7d-531b-478b-ce22-e49c13370d18"
      },
      "execution_count": 25,
      "outputs": [
        {
          "output_type": "stream",
          "name": "stdout",
          "text": [
            "Ranks: ['2', '3', '4', '5', '6', '7', '8', '9', '10', 'J', 'Q', 'K', 'A']\n",
            "len: 52\n"
          ]
        }
      ]
    },
    {
      "cell_type": "code",
      "source": [
        "print(deck[0])\n",
        "print(deck[-1])"
      ],
      "metadata": {
        "colab": {
          "base_uri": "https://localhost:8080/"
        },
        "id": "BxtgJJmh1LOc",
        "outputId": "252df1df-5733-48d4-a8f8-6146988779ef"
      },
      "execution_count": 26,
      "outputs": [
        {
          "output_type": "stream",
          "name": "stdout",
          "text": [
            "Card(rank='2', suit='spades')\n",
            "Card(rank='A', suit='hearts')\n"
          ]
        }
      ]
    },
    {
      "cell_type": "code",
      "source": [
        "from random import choice\n",
        "print(choice(deck))"
      ],
      "metadata": {
        "colab": {
          "base_uri": "https://localhost:8080/"
        },
        "id": "eVErEei51Yoq",
        "outputId": "f2818ee6-fe0d-416e-f1d6-b1e752de0f4d"
      },
      "execution_count": 27,
      "outputs": [
        {
          "output_type": "stream",
          "name": "stdout",
          "text": [
            "Card(rank='6', suit='hearts')\n"
          ]
        }
      ]
    },
    {
      "cell_type": "code",
      "source": [
        "deck[:5]"
      ],
      "metadata": {
        "colab": {
          "base_uri": "https://localhost:8080/"
        },
        "id": "JDcxZWJp1kOx",
        "outputId": "6c06a4cf-8eeb-495d-cb38-2f501fc9fd80"
      },
      "execution_count": 28,
      "outputs": [
        {
          "output_type": "execute_result",
          "data": {
            "text/plain": [
              "[Card(rank='2', suit='spades'),\n",
              " Card(rank='3', suit='spades'),\n",
              " Card(rank='4', suit='spades'),\n",
              " Card(rank='5', suit='spades'),\n",
              " Card(rank='6', suit='spades')]"
            ]
          },
          "metadata": {},
          "execution_count": 28
        }
      ]
    },
    {
      "cell_type": "code",
      "source": [
        "deck[1::12]"
      ],
      "metadata": {
        "colab": {
          "base_uri": "https://localhost:8080/"
        },
        "id": "WEnhtTE71uKU",
        "outputId": "98fc5647-6ca6-43b9-c81f-fb2a9d694ff2"
      },
      "execution_count": 29,
      "outputs": [
        {
          "output_type": "execute_result",
          "data": {
            "text/plain": [
              "[Card(rank='3', suit='spades'),\n",
              " Card(rank='2', suit='diamonds'),\n",
              " Card(rank='A', suit='diamonds'),\n",
              " Card(rank='K', suit='clubs'),\n",
              " Card(rank='Q', suit='hearts')]"
            ]
          },
          "metadata": {},
          "execution_count": 29
        }
      ]
    },
    {
      "cell_type": "code",
      "source": [
        "for card in deck:\n",
        "  print(card)"
      ],
      "metadata": {
        "colab": {
          "base_uri": "https://localhost:8080/"
        },
        "id": "ORcPhVKv10Jp",
        "outputId": "f9cbef57-07ab-4258-fe42-d970f19348f9"
      },
      "execution_count": 30,
      "outputs": [
        {
          "output_type": "stream",
          "name": "stdout",
          "text": [
            "Card(rank='2', suit='spades')\n",
            "Card(rank='3', suit='spades')\n",
            "Card(rank='4', suit='spades')\n",
            "Card(rank='5', suit='spades')\n",
            "Card(rank='6', suit='spades')\n",
            "Card(rank='7', suit='spades')\n",
            "Card(rank='8', suit='spades')\n",
            "Card(rank='9', suit='spades')\n",
            "Card(rank='10', suit='spades')\n",
            "Card(rank='J', suit='spades')\n",
            "Card(rank='Q', suit='spades')\n",
            "Card(rank='K', suit='spades')\n",
            "Card(rank='A', suit='spades')\n",
            "Card(rank='2', suit='diamonds')\n",
            "Card(rank='3', suit='diamonds')\n",
            "Card(rank='4', suit='diamonds')\n",
            "Card(rank='5', suit='diamonds')\n",
            "Card(rank='6', suit='diamonds')\n",
            "Card(rank='7', suit='diamonds')\n",
            "Card(rank='8', suit='diamonds')\n",
            "Card(rank='9', suit='diamonds')\n",
            "Card(rank='10', suit='diamonds')\n",
            "Card(rank='J', suit='diamonds')\n",
            "Card(rank='Q', suit='diamonds')\n",
            "Card(rank='K', suit='diamonds')\n",
            "Card(rank='A', suit='diamonds')\n",
            "Card(rank='2', suit='clubs')\n",
            "Card(rank='3', suit='clubs')\n",
            "Card(rank='4', suit='clubs')\n",
            "Card(rank='5', suit='clubs')\n",
            "Card(rank='6', suit='clubs')\n",
            "Card(rank='7', suit='clubs')\n",
            "Card(rank='8', suit='clubs')\n",
            "Card(rank='9', suit='clubs')\n",
            "Card(rank='10', suit='clubs')\n",
            "Card(rank='J', suit='clubs')\n",
            "Card(rank='Q', suit='clubs')\n",
            "Card(rank='K', suit='clubs')\n",
            "Card(rank='A', suit='clubs')\n",
            "Card(rank='2', suit='hearts')\n",
            "Card(rank='3', suit='hearts')\n",
            "Card(rank='4', suit='hearts')\n",
            "Card(rank='5', suit='hearts')\n",
            "Card(rank='6', suit='hearts')\n",
            "Card(rank='7', suit='hearts')\n",
            "Card(rank='8', suit='hearts')\n",
            "Card(rank='9', suit='hearts')\n",
            "Card(rank='10', suit='hearts')\n",
            "Card(rank='J', suit='hearts')\n",
            "Card(rank='Q', suit='hearts')\n",
            "Card(rank='K', suit='hearts')\n",
            "Card(rank='A', suit='hearts')\n"
          ]
        }
      ]
    },
    {
      "cell_type": "code",
      "source": [
        "suit_values = dict(spades = 3,hearts=2, diamonds=1, clubs=0)\n",
        "def spades_high(card):\n",
        "  rank_value = FrenchDeck.ranks.index(card.rank)\n",
        "  return rank_value * len(suit_values) + suit_values[card.suit]\n",
        "\n",
        "spades_high(beer_card)\n",
        "\n",
        "for card in sorted(deck, key=spades_high):\n",
        "    print('the rank of {} is {}'.format(card,spades_high(card)))\n"
      ],
      "metadata": {
        "colab": {
          "base_uri": "https://localhost:8080/"
        },
        "id": "TWupbIOIeYwh",
        "outputId": "bdecec1a-c1a4-463d-ef31-20697ccd6c29"
      },
      "execution_count": 32,
      "outputs": [
        {
          "output_type": "stream",
          "name": "stdout",
          "text": [
            "the rank of Card(rank='2', suit='clubs') is 0\n",
            "the rank of Card(rank='2', suit='diamonds') is 1\n",
            "the rank of Card(rank='2', suit='hearts') is 2\n",
            "the rank of Card(rank='2', suit='spades') is 3\n",
            "the rank of Card(rank='3', suit='clubs') is 4\n",
            "the rank of Card(rank='3', suit='diamonds') is 5\n",
            "the rank of Card(rank='3', suit='hearts') is 6\n",
            "the rank of Card(rank='3', suit='spades') is 7\n",
            "the rank of Card(rank='4', suit='clubs') is 8\n",
            "the rank of Card(rank='4', suit='diamonds') is 9\n",
            "the rank of Card(rank='4', suit='hearts') is 10\n",
            "the rank of Card(rank='4', suit='spades') is 11\n",
            "the rank of Card(rank='5', suit='clubs') is 12\n",
            "the rank of Card(rank='5', suit='diamonds') is 13\n",
            "the rank of Card(rank='5', suit='hearts') is 14\n",
            "the rank of Card(rank='5', suit='spades') is 15\n",
            "the rank of Card(rank='6', suit='clubs') is 16\n",
            "the rank of Card(rank='6', suit='diamonds') is 17\n",
            "the rank of Card(rank='6', suit='hearts') is 18\n",
            "the rank of Card(rank='6', suit='spades') is 19\n",
            "the rank of Card(rank='7', suit='clubs') is 20\n",
            "the rank of Card(rank='7', suit='diamonds') is 21\n",
            "the rank of Card(rank='7', suit='hearts') is 22\n",
            "the rank of Card(rank='7', suit='spades') is 23\n",
            "the rank of Card(rank='8', suit='clubs') is 24\n",
            "the rank of Card(rank='8', suit='diamonds') is 25\n",
            "the rank of Card(rank='8', suit='hearts') is 26\n",
            "the rank of Card(rank='8', suit='spades') is 27\n",
            "the rank of Card(rank='9', suit='clubs') is 28\n",
            "the rank of Card(rank='9', suit='diamonds') is 29\n",
            "the rank of Card(rank='9', suit='hearts') is 30\n",
            "the rank of Card(rank='9', suit='spades') is 31\n",
            "the rank of Card(rank='10', suit='clubs') is 32\n",
            "the rank of Card(rank='10', suit='diamonds') is 33\n",
            "the rank of Card(rank='10', suit='hearts') is 34\n",
            "the rank of Card(rank='10', suit='spades') is 35\n",
            "the rank of Card(rank='J', suit='clubs') is 36\n",
            "the rank of Card(rank='J', suit='diamonds') is 37\n",
            "the rank of Card(rank='J', suit='hearts') is 38\n",
            "the rank of Card(rank='J', suit='spades') is 39\n",
            "the rank of Card(rank='Q', suit='clubs') is 40\n",
            "the rank of Card(rank='Q', suit='diamonds') is 41\n",
            "the rank of Card(rank='Q', suit='hearts') is 42\n",
            "the rank of Card(rank='Q', suit='spades') is 43\n",
            "the rank of Card(rank='K', suit='clubs') is 44\n",
            "the rank of Card(rank='K', suit='diamonds') is 45\n",
            "the rank of Card(rank='K', suit='hearts') is 46\n",
            "the rank of Card(rank='K', suit='spades') is 47\n",
            "the rank of Card(rank='A', suit='clubs') is 48\n",
            "the rank of Card(rank='A', suit='diamonds') is 49\n",
            "the rank of Card(rank='A', suit='hearts') is 50\n",
            "the rank of Card(rank='A', suit='spades') is 51\n"
          ]
        }
      ]
    },
    {
      "cell_type": "code",
      "source": [
        "from math import hypot\n",
        "class Vector:\n",
        "  def __init__(self,x=0,y=0):\n",
        "    self.x = x\n",
        "    self.y = y\n",
        "  def __repr__(self):\n",
        "    return 'Vector(%r,%r)'%(self.x,self.y)\n",
        "\n",
        "  def __abs__(self):\n",
        "    return hypot(self.x,self.y)\n",
        "  def __bool__(self):\n",
        "    return bool(abs(self))\n",
        "  def __add__(self,other):\n",
        "      x = self.x + other.x\n",
        "      y = self.y + other.y\n",
        "      return Vector(x,y)\n",
        "\n",
        "  def __mul__(self,scalar):\n",
        "    return Vector(self.x *scalar,self.y*scalar)"
      ],
      "metadata": {
        "id": "QnyZLB6rhucl"
      },
      "execution_count": 36,
      "outputs": []
    },
    {
      "cell_type": "code",
      "source": [
        "v = Vector(3,4)\n",
        "abs(v)\n",
        "v *3\n",
        "abs(v*3)"
      ],
      "metadata": {
        "colab": {
          "base_uri": "https://localhost:8080/"
        },
        "id": "_VXOs5w3i6rL",
        "outputId": "36156e6b-6e9e-4b20-c5db-ca919b766881"
      },
      "execution_count": 38,
      "outputs": [
        {
          "output_type": "execute_result",
          "data": {
            "text/plain": [
              "15.0"
            ]
          },
          "metadata": {},
          "execution_count": 38
        }
      ]
    },
    {
      "cell_type": "code",
      "source": [],
      "metadata": {
        "id": "sgrCKFHPjZ91"
      },
      "execution_count": null,
      "outputs": []
    }
  ]
}